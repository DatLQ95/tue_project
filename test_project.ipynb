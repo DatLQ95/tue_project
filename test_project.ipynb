{
 "metadata": {
  "language_info": {
   "codemirror_mode": {
    "name": "ipython",
    "version": 3
   },
   "file_extension": ".py",
   "mimetype": "text/x-python",
   "name": "python",
   "nbconvert_exporter": "python",
   "pygments_lexer": "ipython3",
   "version": "3.8.5-final"
  },
  "orig_nbformat": 2,
  "kernelspec": {
   "name": "tue_project",
   "display_name": "tue_project",
   "language": "python"
  }
 },
 "nbformat": 4,
 "nbformat_minor": 2,
 "cells": [
  {
   "cell_type": "code",
   "execution_count": 2,
   "metadata": {},
   "outputs": [
    {
     "output_type": "stream",
     "name": "stdout",
     "text": [
      "Host machine 0\nCPU 20\nstorage 200\n\nHost machine 1\nCPU 20\nstorage 200\n\nHost machine 2\nCPU 20\nstorage 200\n\nHost machine 3\nCPU 20\nstorage 200\n\n"
     ]
    }
   ],
   "source": [
    "from project_class.HostMachine import HostMachine\n",
    "\n",
    "host = [HostMachine(cpu=20, memory=100, storage=200, index=i) for i in range(4)]\n",
    "\n",
    "for i in range(4):\n",
    "    host[i].get_status()\n",
    "    "
   ]
  },
  {
   "cell_type": "code",
   "execution_count": null,
   "metadata": {},
   "outputs": [],
   "source": []
  }
 ]
}