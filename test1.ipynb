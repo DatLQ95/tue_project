{
 "metadata": {
  "language_info": {
   "codemirror_mode": {
    "name": "ipython",
    "version": 3
   },
   "file_extension": ".py",
   "mimetype": "text/x-python",
   "name": "python",
   "nbconvert_exporter": "python",
   "pygments_lexer": "ipython3",
   "version": "3.8.5-final"
  },
  "orig_nbformat": 2,
  "kernelspec": {
   "name": "tue_project",
   "display_name": "tue_project",
   "language": "python"
  }
 },
 "nbformat": 4,
 "nbformat_minor": 2,
 "cells": [
  {
   "cell_type": "code",
   "execution_count": 1,
   "metadata": {},
   "outputs": [],
   "source": [
    "import simpy"
   ]
  },
  {
   "cell_type": "code",
   "execution_count": 2,
   "metadata": {},
   "outputs": [],
   "source": [
    "def car(env):\n",
    "    while True:\n",
    "        print(\"parrk %d\" % env.now)\n",
    "        park_duration = 5\n",
    "        yield env.timeout(park_duration)\n",
    "\n",
    "        print(\"star driving %d\" % env.now)\n",
    "        trip_duration = 2\n",
    "        yield env.timeout(trip_duration)"
   ]
  },
  {
   "cell_type": "code",
   "execution_count": 3,
   "metadata": {},
   "outputs": [
    {
     "output_type": "stream",
     "name": "stdout",
     "text": [
      "parrk 0\nstar driving 5\nparrk 7\nstar driving 12\nparrk 14\nstar driving 19\n"
     ]
    }
   ],
   "source": [
    "env = simpy.Environment()\n",
    "env.process(car(env))\n",
    "env.run(until=20)"
   ]
  },
  {
   "cell_type": "code",
   "execution_count": 4,
   "metadata": {},
   "outputs": [],
   "source": [
    "class Car(object):\n",
    "    def __init__(self, env) -> None:\n",
    "        super().__init__()\n",
    "        self.env = env\n",
    "        self.action = env.process(self.run())\n",
    "\n",
    "    def run(self):\n",
    "        while True:\n",
    "            print(\"parrk %d\" % self.env.now)\n",
    "            charge_duration = 5\n",
    "            yield self.env.process(self.charge(charge_duration))\n",
    "\n",
    "            print(\"star driving %d\" % self.env.now)\n",
    "            trip_duration = 2\n",
    "            yield self.env.timeout(trip_duration)\n",
    "    \n",
    "    def charge(self, duration):\n",
    "        yield self.env.timeout(duration)"
   ]
  },
  {
   "cell_type": "code",
   "execution_count": 6,
   "metadata": {},
   "outputs": [
    {
     "output_type": "stream",
     "name": "stdout",
     "text": [
      "parrk 20\nparrk 20\nparrk 20\nparrk 20\nparrk 21\nstar driving 25\nstar driving 25\nstar driving 25\nstar driving 25\nstar driving 26\nparrk 27\nparrk 27\nparrk 27\nparrk 27\nparrk 28\nstar driving 32\nstar driving 32\nstar driving 32\nstar driving 32\nstar driving 33\nparrk 34\nparrk 34\nparrk 34\nparrk 34\nparrk 35\nstar driving 39\nstar driving 39\nstar driving 39\nstar driving 39\n"
     ]
    }
   ],
   "source": [
    "Car1 = Car(env)\n",
    "Car2 = Car(env)\n",
    "env.run(until=40)"
   ]
  },
  {
   "cell_type": "code",
   "execution_count": 19,
   "metadata": {},
   "outputs": [],
   "source": [
    "a = 1\n",
    "class a():\n",
    "    def __init__(self):\n",
    "        self.a = a\n",
    "    def return_a(self):\n",
    "        return self.a\n",
    "        print(self.a)"
   ]
  },
  {
   "cell_type": "code",
   "execution_count": 20,
   "metadata": {},
   "outputs": [],
   "source": [
    "b = a()"
   ]
  },
  {
   "cell_type": "code",
   "execution_count": 22,
   "metadata": {},
   "outputs": [
    {
     "output_type": "execute_result",
     "data": {
      "text/plain": [
       "__main__.a"
      ]
     },
     "metadata": {},
     "execution_count": 22
    }
   ],
   "source": [
    "b.return_a()"
   ]
  },
  {
   "cell_type": "code",
   "execution_count": null,
   "metadata": {},
   "outputs": [],
   "source": []
  }
 ]
}